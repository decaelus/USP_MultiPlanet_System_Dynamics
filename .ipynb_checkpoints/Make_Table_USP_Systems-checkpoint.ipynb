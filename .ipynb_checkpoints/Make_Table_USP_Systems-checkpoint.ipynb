{
 "cells": [
  {
   "cell_type": "code",
   "execution_count": 42,
   "metadata": {
    "collapsed": true
   },
   "outputs": [],
   "source": [
    "import numpy as np\n",
    "\n",
    "import kplr\n",
    "client = kplr.API()\n",
    "\n",
    "import warnings\n",
    "warnings.filterwarnings('ignore')"
   ]
  },
  {
   "cell_type": "markdown",
   "metadata": {},
   "source": [
    "First grab the USP multi systems from KOI catalog"
   ]
  },
  {
   "cell_type": "code",
   "execution_count": 67,
   "metadata": {
    "collapsed": false
   },
   "outputs": [],
   "source": [
    "#Grab data from MAST archive using F-M's kplr package\n",
    "planets = client.kois(where=\"koi_period<1\")"
   ]
  },
  {
   "cell_type": "code",
   "execution_count": 68,
   "metadata": {
    "collapsed": false
   },
   "outputs": [
    {
     "name": "stdout",
     "output_type": "stream",
     "text": [
      "['koi_teq_err1', 'kepoi_name', 'kepler_name', 'koi_period', 'koi_period_err1', 'koi_period_err2', 'koi_srad', 'api', 'koi_depth_err1', '_name', 'koi_fpflag_nt', 'koi_impact', 'koi_duration_err2', 'koi_duration_err1', 'koi_pdisposition', 'koi_prad_err1', 'koi_prad_err2', 'koi_prad', 'koi_time0bk', 'params', 'koi_insol', 'koi_kepmag_err', 'koi_teq_err2', 'koi_depth', 'koi_teq', 'koi_disposition', 'koi_kepmag', 'koi_depth_err2', 'koi_slogg_err2', 'koi_impact_err1', 'koi_fpflag_ss', 'koi_steff', 'kepid', 'dec_str', 'koi_insol_err2', 'koi_insol_err1', 'koi_slogg_err1', 'ra_str', 'koi_impact_err2', 'koi_fpflag_co', 'koi_time0bk_err2', 'koi_tce_plnt_num', '_star', 'koi_time0bk_err1', 'koi_steff_err2', 'koi_slogg', 'koi_srad_err2', 'koi_srad_err1', 'koi_tce_delivname', 'koi_duration', 'koi_fpflag_ec', 'koi_model_snr', 'koi_steff_err1']\n"
     ]
    }
   ],
   "source": [
    "print(planets[0].__dict__.keys())"
   ]
  },
  {
   "cell_type": "code",
   "execution_count": 77,
   "metadata": {
    "collapsed": false
   },
   "outputs": [
    {
     "name": "stdout",
     "output_type": "stream",
     "text": [
      "(u'Kepler-732 c', 2)\n"
     ]
    }
   ],
   "source": [
    "ind = [i for i in range(len(planets)) if (planets[i].koi_tce_plnt_num > 1) and (planets[i].kepler_name is not None)]\n",
    "print(planets[ind[0]].kepler_name, planets[ind[0]].koi_tce_plnt_num)"
   ]
  },
  {
   "cell_type": "code",
   "execution_count": null,
   "metadata": {
    "collapsed": true
   },
   "outputs": [],
   "source": [
    "#help(genfromtxt)\n",
    "my_data = genfromtxt('our_usp_database_byhand.tsv', delimiter='\\t', names=True, dtype=None)\n",
    "\n",
    "#uniquify the list of star names\n",
    "star_names = np.unique(my_data['Star'])"
   ]
  }
 ],
 "metadata": {
  "kernelspec": {
   "display_name": "Python 2",
   "language": "python",
   "name": "python2"
  },
  "language_info": {
   "codemirror_mode": {
    "name": "ipython",
    "version": 2
   },
   "file_extension": ".py",
   "mimetype": "text/x-python",
   "name": "python",
   "nbconvert_exporter": "python",
   "pygments_lexer": "ipython2",
   "version": "2.7.12"
  }
 },
 "nbformat": 4,
 "nbformat_minor": 0
}
