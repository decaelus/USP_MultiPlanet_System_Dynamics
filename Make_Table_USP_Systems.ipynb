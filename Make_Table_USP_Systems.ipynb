{
 "cells": [
  {
   "cell_type": "code",
   "execution_count": 1,
   "metadata": {
    "collapsed": true
   },
   "outputs": [],
   "source": [
    "from numpy import genfromtxt"
   ]
  },
  {
   "cell_type": "code",
   "execution_count": 29,
   "metadata": {
    "collapsed": false
   },
   "outputs": [
    {
     "name": "stdout",
     "output_type": "stream",
     "text": [
      "[ 14.5  14.7  14.4  14.9  14.8  16.   15.   15.9  15.4  11.6  15.5  15.9\n",
      "  14.3  15.3  15.7  15.2  13.1  14.6  15.7  15.9  14.1  14.1  14.8  14.6\n",
      "  14.5  15.9  14.3  14.2  15.4  15.6  15.   15.9  15.5  13.6  15.9  14.5\n",
      "  13.5  15.   14.5  14.8  14.1  13.4  14.4  15.1  14.8  13.5  15.6  15.8\n",
      "  15.7  15.2  14.5  14.9  13.3  14.4  15.9  14.3  15.4  14.5  15.8  14.9\n",
      "  13.8  15.1  15.4  15.6  13.   15.   15.8  14.9  15.3  15.   13.2  15.6\n",
      "  15.8  15.6  14.3  15.5  13.6  14.8  14.6  13.8  12.5  13.8  15.9  11.\n",
      "  14.8  15.5  15.2  15.4  14.5  14.4  15.   15.   14.7  12.8  14.4  15.2\n",
      "  15.7  14.9  14.9  12.4  15.   13.4  12.4  14.5  14.5  14.7]\n"
     ]
    }
   ],
   "source": [
    "#help(genfromtxt)\n",
    "my_data = genfromtxt('SanchisOjeda2014_Table1.txt', delimiter='\\t', comments='#', names=True, skip_header=3)\n",
    "print(my_data['mKep'])"
   ]
  }
 ],
 "metadata": {
  "kernelspec": {
   "display_name": "Python 2",
   "language": "python",
   "name": "python2"
  },
  "language_info": {
   "codemirror_mode": {
    "name": "ipython",
    "version": 2
   },
   "file_extension": ".py",
   "mimetype": "text/x-python",
   "name": "python",
   "nbconvert_exporter": "python",
   "pygments_lexer": "ipython2",
   "version": "2.7.12"
  }
 },
 "nbformat": 4,
 "nbformat_minor": 0
}
